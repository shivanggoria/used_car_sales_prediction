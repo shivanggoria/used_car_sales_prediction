{
 "cells": [
  {
   "cell_type": "code",
   "execution_count": 1,
   "id": "0b24524a",
   "metadata": {},
   "outputs": [],
   "source": [
    "import pandas as pd\n",
    "import numpy as np\n",
    "import seaborn as sns\n"
   ]
  },
  {
   "cell_type": "code",
   "execution_count": 2,
   "id": "26ab51f2",
   "metadata": {},
   "outputs": [
    {
     "data": {
      "text/html": [
       "<div>\n",
       "<style scoped>\n",
       "    .dataframe tbody tr th:only-of-type {\n",
       "        vertical-align: middle;\n",
       "    }\n",
       "\n",
       "    .dataframe tbody tr th {\n",
       "        vertical-align: top;\n",
       "    }\n",
       "\n",
       "    .dataframe thead th {\n",
       "        text-align: right;\n",
       "    }\n",
       "</style>\n",
       "<table border=\"1\" class=\"dataframe\">\n",
       "  <thead>\n",
       "    <tr style=\"text-align: right;\">\n",
       "      <th></th>\n",
       "      <th>Brand_Name</th>\n",
       "      <th>Year</th>\n",
       "      <th>km_Driven</th>\n",
       "      <th>Fuel</th>\n",
       "      <th>Seller_Type</th>\n",
       "      <th>Transmission</th>\n",
       "      <th>Owner</th>\n",
       "      <th>Mileage</th>\n",
       "      <th>Max_Power</th>\n",
       "      <th>Engine</th>\n",
       "      <th>Seats</th>\n",
       "      <th>City_Name</th>\n",
       "      <th>Selling_Price</th>\n",
       "    </tr>\n",
       "  </thead>\n",
       "  <tbody>\n",
       "    <tr>\n",
       "      <th>0</th>\n",
       "      <td>Maruti</td>\n",
       "      <td>2014</td>\n",
       "      <td>145500</td>\n",
       "      <td>Diesel</td>\n",
       "      <td>Individual</td>\n",
       "      <td>Manual</td>\n",
       "      <td>First Owner</td>\n",
       "      <td>23.40</td>\n",
       "      <td>74.00</td>\n",
       "      <td>1248</td>\n",
       "      <td>5</td>\n",
       "      <td>Mumbai</td>\n",
       "      <td>450000</td>\n",
       "    </tr>\n",
       "    <tr>\n",
       "      <th>1</th>\n",
       "      <td>Skoda</td>\n",
       "      <td>2014</td>\n",
       "      <td>120000</td>\n",
       "      <td>Diesel</td>\n",
       "      <td>Individual</td>\n",
       "      <td>Manual</td>\n",
       "      <td>Second Owner</td>\n",
       "      <td>21.14</td>\n",
       "      <td>103.52</td>\n",
       "      <td>1498</td>\n",
       "      <td>5</td>\n",
       "      <td>Ranchi</td>\n",
       "      <td>370000</td>\n",
       "    </tr>\n",
       "    <tr>\n",
       "      <th>2</th>\n",
       "      <td>Honda</td>\n",
       "      <td>2006</td>\n",
       "      <td>140000</td>\n",
       "      <td>Petrol</td>\n",
       "      <td>Individual</td>\n",
       "      <td>Manual</td>\n",
       "      <td>Third Owner</td>\n",
       "      <td>17.70</td>\n",
       "      <td>78.00</td>\n",
       "      <td>1497</td>\n",
       "      <td>5</td>\n",
       "      <td>Noida</td>\n",
       "      <td>158000</td>\n",
       "    </tr>\n",
       "    <tr>\n",
       "      <th>3</th>\n",
       "      <td>Hyundai</td>\n",
       "      <td>2010</td>\n",
       "      <td>127000</td>\n",
       "      <td>Diesel</td>\n",
       "      <td>Individual</td>\n",
       "      <td>Manual</td>\n",
       "      <td>First Owner</td>\n",
       "      <td>23.00</td>\n",
       "      <td>90.00</td>\n",
       "      <td>1396</td>\n",
       "      <td>5</td>\n",
       "      <td>Dehradun</td>\n",
       "      <td>225000</td>\n",
       "    </tr>\n",
       "    <tr>\n",
       "      <th>4</th>\n",
       "      <td>Maruti</td>\n",
       "      <td>2007</td>\n",
       "      <td>120000</td>\n",
       "      <td>Petrol</td>\n",
       "      <td>Individual</td>\n",
       "      <td>Manual</td>\n",
       "      <td>First Owner</td>\n",
       "      <td>16.10</td>\n",
       "      <td>88.20</td>\n",
       "      <td>1298</td>\n",
       "      <td>5</td>\n",
       "      <td>Chennai</td>\n",
       "      <td>130000</td>\n",
       "    </tr>\n",
       "    <tr>\n",
       "      <th>...</th>\n",
       "      <td>...</td>\n",
       "      <td>...</td>\n",
       "      <td>...</td>\n",
       "      <td>...</td>\n",
       "      <td>...</td>\n",
       "      <td>...</td>\n",
       "      <td>...</td>\n",
       "      <td>...</td>\n",
       "      <td>...</td>\n",
       "      <td>...</td>\n",
       "      <td>...</td>\n",
       "      <td>...</td>\n",
       "      <td>...</td>\n",
       "    </tr>\n",
       "    <tr>\n",
       "      <th>7901</th>\n",
       "      <td>Hyundai</td>\n",
       "      <td>2013</td>\n",
       "      <td>110000</td>\n",
       "      <td>Petrol</td>\n",
       "      <td>Individual</td>\n",
       "      <td>Manual</td>\n",
       "      <td>First Owner</td>\n",
       "      <td>18.50</td>\n",
       "      <td>82.85</td>\n",
       "      <td>1197</td>\n",
       "      <td>5</td>\n",
       "      <td>Indore</td>\n",
       "      <td>320000</td>\n",
       "    </tr>\n",
       "    <tr>\n",
       "      <th>7902</th>\n",
       "      <td>Hyundai</td>\n",
       "      <td>2007</td>\n",
       "      <td>119000</td>\n",
       "      <td>Diesel</td>\n",
       "      <td>Individual</td>\n",
       "      <td>Manual</td>\n",
       "      <td>Fourth &amp; Above Owner</td>\n",
       "      <td>16.80</td>\n",
       "      <td>110.00</td>\n",
       "      <td>1493</td>\n",
       "      <td>5</td>\n",
       "      <td>Dehradun</td>\n",
       "      <td>135000</td>\n",
       "    </tr>\n",
       "    <tr>\n",
       "      <th>7903</th>\n",
       "      <td>Maruti</td>\n",
       "      <td>2009</td>\n",
       "      <td>120000</td>\n",
       "      <td>Diesel</td>\n",
       "      <td>Individual</td>\n",
       "      <td>Manual</td>\n",
       "      <td>First Owner</td>\n",
       "      <td>19.30</td>\n",
       "      <td>73.90</td>\n",
       "      <td>1248</td>\n",
       "      <td>5</td>\n",
       "      <td>Kolkata</td>\n",
       "      <td>382000</td>\n",
       "    </tr>\n",
       "    <tr>\n",
       "      <th>7904</th>\n",
       "      <td>Tata</td>\n",
       "      <td>2013</td>\n",
       "      <td>25000</td>\n",
       "      <td>Diesel</td>\n",
       "      <td>Individual</td>\n",
       "      <td>Manual</td>\n",
       "      <td>First Owner</td>\n",
       "      <td>23.57</td>\n",
       "      <td>70.00</td>\n",
       "      <td>1396</td>\n",
       "      <td>5</td>\n",
       "      <td>Vellore</td>\n",
       "      <td>290000</td>\n",
       "    </tr>\n",
       "    <tr>\n",
       "      <th>7905</th>\n",
       "      <td>Tata</td>\n",
       "      <td>2013</td>\n",
       "      <td>25000</td>\n",
       "      <td>Diesel</td>\n",
       "      <td>Individual</td>\n",
       "      <td>Manual</td>\n",
       "      <td>First Owner</td>\n",
       "      <td>23.57</td>\n",
       "      <td>70.00</td>\n",
       "      <td>1396</td>\n",
       "      <td>5</td>\n",
       "      <td>Dehradun</td>\n",
       "      <td>290000</td>\n",
       "    </tr>\n",
       "  </tbody>\n",
       "</table>\n",
       "<p>7906 rows × 13 columns</p>\n",
       "</div>"
      ],
      "text/plain": [
       "     Brand_Name  Year  km_Driven    Fuel Seller_Type Transmission  \\\n",
       "0        Maruti  2014     145500  Diesel  Individual       Manual   \n",
       "1         Skoda  2014     120000  Diesel  Individual       Manual   \n",
       "2         Honda  2006     140000  Petrol  Individual       Manual   \n",
       "3       Hyundai  2010     127000  Diesel  Individual       Manual   \n",
       "4        Maruti  2007     120000  Petrol  Individual       Manual   \n",
       "...         ...   ...        ...     ...         ...          ...   \n",
       "7901    Hyundai  2013     110000  Petrol  Individual       Manual   \n",
       "7902    Hyundai  2007     119000  Diesel  Individual       Manual   \n",
       "7903     Maruti  2009     120000  Diesel  Individual       Manual   \n",
       "7904       Tata  2013      25000  Diesel  Individual       Manual   \n",
       "7905       Tata  2013      25000  Diesel  Individual       Manual   \n",
       "\n",
       "                     Owner  Mileage  Max_Power  Engine  Seats City_Name  \\\n",
       "0              First Owner    23.40      74.00    1248      5    Mumbai   \n",
       "1             Second Owner    21.14     103.52    1498      5    Ranchi   \n",
       "2              Third Owner    17.70      78.00    1497      5     Noida   \n",
       "3              First Owner    23.00      90.00    1396      5  Dehradun   \n",
       "4              First Owner    16.10      88.20    1298      5   Chennai   \n",
       "...                    ...      ...        ...     ...    ...       ...   \n",
       "7901           First Owner    18.50      82.85    1197      5    Indore   \n",
       "7902  Fourth & Above Owner    16.80     110.00    1493      5  Dehradun   \n",
       "7903           First Owner    19.30      73.90    1248      5   Kolkata   \n",
       "7904           First Owner    23.57      70.00    1396      5   Vellore   \n",
       "7905           First Owner    23.57      70.00    1396      5  Dehradun   \n",
       "\n",
       "      Selling_Price  \n",
       "0            450000  \n",
       "1            370000  \n",
       "2            158000  \n",
       "3            225000  \n",
       "4            130000  \n",
       "...             ...  \n",
       "7901         320000  \n",
       "7902         135000  \n",
       "7903         382000  \n",
       "7904         290000  \n",
       "7905         290000  \n",
       "\n",
       "[7906 rows x 13 columns]"
      ]
     },
     "execution_count": 2,
     "metadata": {},
     "output_type": "execute_result"
    }
   ],
   "source": [
    "df=pd.read_csv('car_sales_final.csv')\n",
    "df"
   ]
  },
  {
   "cell_type": "code",
   "execution_count": 3,
   "id": "ff174b5d",
   "metadata": {},
   "outputs": [],
   "source": [
    "X = df.drop(columns='Selling_Price').copy()\n",
    "y = df['Selling_Price'].copy()"
   ]
  },
  {
   "cell_type": "code",
   "execution_count": 4,
   "id": "7272434e",
   "metadata": {},
   "outputs": [],
   "source": [
    "en_X=pd.get_dummies(X,columns=['Brand_Name','Fuel','Seller_Type','Transmission','Owner','City_Name'])"
   ]
  },
  {
   "cell_type": "code",
   "execution_count": 5,
   "id": "184f16d4",
   "metadata": {},
   "outputs": [],
   "source": [
    "#from sklearn import preprocessing\n",
    "#label_encoder = preprocessing.LabelEncoder()\n",
    "#X['Brand_Name']= label_encoder.fit_transform(X['Brand_Name'])\n",
    "#X['Fuel']= label_encoder.fit_transform(X['Fuel'])\n",
    "#X['Seller_Type']= label_encoder.fit_transform(X['Seller_Type'])\n",
    "#X['Transmission']= label_encoder.fit_transform(X['Transmission'])\n",
    "#X['Owner']= label_encoder.fit_transform(X['Owner'])\n",
    "#X['City_Name']= label_encoder.fit_transform(X['City_Name'])\n",
    "#en_X=X"
   ]
  },
  {
   "cell_type": "code",
   "execution_count": 6,
   "id": "be68e28a",
   "metadata": {},
   "outputs": [
    {
     "data": {
      "text/html": [
       "<div>\n",
       "<style scoped>\n",
       "    .dataframe tbody tr th:only-of-type {\n",
       "        vertical-align: middle;\n",
       "    }\n",
       "\n",
       "    .dataframe tbody tr th {\n",
       "        vertical-align: top;\n",
       "    }\n",
       "\n",
       "    .dataframe thead th {\n",
       "        text-align: right;\n",
       "    }\n",
       "</style>\n",
       "<table border=\"1\" class=\"dataframe\">\n",
       "  <thead>\n",
       "    <tr style=\"text-align: right;\">\n",
       "      <th></th>\n",
       "      <th>Year</th>\n",
       "      <th>km_Driven</th>\n",
       "      <th>Mileage</th>\n",
       "      <th>Max_Power</th>\n",
       "      <th>Engine</th>\n",
       "      <th>Seats</th>\n",
       "      <th>Brand_Name_Ambassador</th>\n",
       "      <th>Brand_Name_Ashok</th>\n",
       "      <th>Brand_Name_Audi</th>\n",
       "      <th>Brand_Name_BMW</th>\n",
       "      <th>...</th>\n",
       "      <th>City_Name_Nellore</th>\n",
       "      <th>City_Name_Noida</th>\n",
       "      <th>City_Name_Patna</th>\n",
       "      <th>City_Name_Pune</th>\n",
       "      <th>City_Name_Ranchi</th>\n",
       "      <th>City_Name_Surat</th>\n",
       "      <th>City_Name_Thrissur</th>\n",
       "      <th>City_Name_Vadodara</th>\n",
       "      <th>City_Name_Vellore</th>\n",
       "      <th>City_Name_kanpur</th>\n",
       "    </tr>\n",
       "  </thead>\n",
       "  <tbody>\n",
       "    <tr>\n",
       "      <th>0</th>\n",
       "      <td>2014</td>\n",
       "      <td>145500</td>\n",
       "      <td>23.40</td>\n",
       "      <td>74.00</td>\n",
       "      <td>1248</td>\n",
       "      <td>5</td>\n",
       "      <td>0</td>\n",
       "      <td>0</td>\n",
       "      <td>0</td>\n",
       "      <td>0</td>\n",
       "      <td>...</td>\n",
       "      <td>0</td>\n",
       "      <td>0</td>\n",
       "      <td>0</td>\n",
       "      <td>0</td>\n",
       "      <td>0</td>\n",
       "      <td>0</td>\n",
       "      <td>0</td>\n",
       "      <td>0</td>\n",
       "      <td>0</td>\n",
       "      <td>0</td>\n",
       "    </tr>\n",
       "    <tr>\n",
       "      <th>1</th>\n",
       "      <td>2014</td>\n",
       "      <td>120000</td>\n",
       "      <td>21.14</td>\n",
       "      <td>103.52</td>\n",
       "      <td>1498</td>\n",
       "      <td>5</td>\n",
       "      <td>0</td>\n",
       "      <td>0</td>\n",
       "      <td>0</td>\n",
       "      <td>0</td>\n",
       "      <td>...</td>\n",
       "      <td>0</td>\n",
       "      <td>0</td>\n",
       "      <td>0</td>\n",
       "      <td>0</td>\n",
       "      <td>1</td>\n",
       "      <td>0</td>\n",
       "      <td>0</td>\n",
       "      <td>0</td>\n",
       "      <td>0</td>\n",
       "      <td>0</td>\n",
       "    </tr>\n",
       "    <tr>\n",
       "      <th>2</th>\n",
       "      <td>2006</td>\n",
       "      <td>140000</td>\n",
       "      <td>17.70</td>\n",
       "      <td>78.00</td>\n",
       "      <td>1497</td>\n",
       "      <td>5</td>\n",
       "      <td>0</td>\n",
       "      <td>0</td>\n",
       "      <td>0</td>\n",
       "      <td>0</td>\n",
       "      <td>...</td>\n",
       "      <td>0</td>\n",
       "      <td>1</td>\n",
       "      <td>0</td>\n",
       "      <td>0</td>\n",
       "      <td>0</td>\n",
       "      <td>0</td>\n",
       "      <td>0</td>\n",
       "      <td>0</td>\n",
       "      <td>0</td>\n",
       "      <td>0</td>\n",
       "    </tr>\n",
       "    <tr>\n",
       "      <th>3</th>\n",
       "      <td>2010</td>\n",
       "      <td>127000</td>\n",
       "      <td>23.00</td>\n",
       "      <td>90.00</td>\n",
       "      <td>1396</td>\n",
       "      <td>5</td>\n",
       "      <td>0</td>\n",
       "      <td>0</td>\n",
       "      <td>0</td>\n",
       "      <td>0</td>\n",
       "      <td>...</td>\n",
       "      <td>0</td>\n",
       "      <td>0</td>\n",
       "      <td>0</td>\n",
       "      <td>0</td>\n",
       "      <td>0</td>\n",
       "      <td>0</td>\n",
       "      <td>0</td>\n",
       "      <td>0</td>\n",
       "      <td>0</td>\n",
       "      <td>0</td>\n",
       "    </tr>\n",
       "    <tr>\n",
       "      <th>4</th>\n",
       "      <td>2007</td>\n",
       "      <td>120000</td>\n",
       "      <td>16.10</td>\n",
       "      <td>88.20</td>\n",
       "      <td>1298</td>\n",
       "      <td>5</td>\n",
       "      <td>0</td>\n",
       "      <td>0</td>\n",
       "      <td>0</td>\n",
       "      <td>0</td>\n",
       "      <td>...</td>\n",
       "      <td>0</td>\n",
       "      <td>0</td>\n",
       "      <td>0</td>\n",
       "      <td>0</td>\n",
       "      <td>0</td>\n",
       "      <td>0</td>\n",
       "      <td>0</td>\n",
       "      <td>0</td>\n",
       "      <td>0</td>\n",
       "      <td>0</td>\n",
       "    </tr>\n",
       "    <tr>\n",
       "      <th>...</th>\n",
       "      <td>...</td>\n",
       "      <td>...</td>\n",
       "      <td>...</td>\n",
       "      <td>...</td>\n",
       "      <td>...</td>\n",
       "      <td>...</td>\n",
       "      <td>...</td>\n",
       "      <td>...</td>\n",
       "      <td>...</td>\n",
       "      <td>...</td>\n",
       "      <td>...</td>\n",
       "      <td>...</td>\n",
       "      <td>...</td>\n",
       "      <td>...</td>\n",
       "      <td>...</td>\n",
       "      <td>...</td>\n",
       "      <td>...</td>\n",
       "      <td>...</td>\n",
       "      <td>...</td>\n",
       "      <td>...</td>\n",
       "      <td>...</td>\n",
       "    </tr>\n",
       "    <tr>\n",
       "      <th>7901</th>\n",
       "      <td>2013</td>\n",
       "      <td>110000</td>\n",
       "      <td>18.50</td>\n",
       "      <td>82.85</td>\n",
       "      <td>1197</td>\n",
       "      <td>5</td>\n",
       "      <td>0</td>\n",
       "      <td>0</td>\n",
       "      <td>0</td>\n",
       "      <td>0</td>\n",
       "      <td>...</td>\n",
       "      <td>0</td>\n",
       "      <td>0</td>\n",
       "      <td>0</td>\n",
       "      <td>0</td>\n",
       "      <td>0</td>\n",
       "      <td>0</td>\n",
       "      <td>0</td>\n",
       "      <td>0</td>\n",
       "      <td>0</td>\n",
       "      <td>0</td>\n",
       "    </tr>\n",
       "    <tr>\n",
       "      <th>7902</th>\n",
       "      <td>2007</td>\n",
       "      <td>119000</td>\n",
       "      <td>16.80</td>\n",
       "      <td>110.00</td>\n",
       "      <td>1493</td>\n",
       "      <td>5</td>\n",
       "      <td>0</td>\n",
       "      <td>0</td>\n",
       "      <td>0</td>\n",
       "      <td>0</td>\n",
       "      <td>...</td>\n",
       "      <td>0</td>\n",
       "      <td>0</td>\n",
       "      <td>0</td>\n",
       "      <td>0</td>\n",
       "      <td>0</td>\n",
       "      <td>0</td>\n",
       "      <td>0</td>\n",
       "      <td>0</td>\n",
       "      <td>0</td>\n",
       "      <td>0</td>\n",
       "    </tr>\n",
       "    <tr>\n",
       "      <th>7903</th>\n",
       "      <td>2009</td>\n",
       "      <td>120000</td>\n",
       "      <td>19.30</td>\n",
       "      <td>73.90</td>\n",
       "      <td>1248</td>\n",
       "      <td>5</td>\n",
       "      <td>0</td>\n",
       "      <td>0</td>\n",
       "      <td>0</td>\n",
       "      <td>0</td>\n",
       "      <td>...</td>\n",
       "      <td>0</td>\n",
       "      <td>0</td>\n",
       "      <td>0</td>\n",
       "      <td>0</td>\n",
       "      <td>0</td>\n",
       "      <td>0</td>\n",
       "      <td>0</td>\n",
       "      <td>0</td>\n",
       "      <td>0</td>\n",
       "      <td>0</td>\n",
       "    </tr>\n",
       "    <tr>\n",
       "      <th>7904</th>\n",
       "      <td>2013</td>\n",
       "      <td>25000</td>\n",
       "      <td>23.57</td>\n",
       "      <td>70.00</td>\n",
       "      <td>1396</td>\n",
       "      <td>5</td>\n",
       "      <td>0</td>\n",
       "      <td>0</td>\n",
       "      <td>0</td>\n",
       "      <td>0</td>\n",
       "      <td>...</td>\n",
       "      <td>0</td>\n",
       "      <td>0</td>\n",
       "      <td>0</td>\n",
       "      <td>0</td>\n",
       "      <td>0</td>\n",
       "      <td>0</td>\n",
       "      <td>0</td>\n",
       "      <td>0</td>\n",
       "      <td>1</td>\n",
       "      <td>0</td>\n",
       "    </tr>\n",
       "    <tr>\n",
       "      <th>7905</th>\n",
       "      <td>2013</td>\n",
       "      <td>25000</td>\n",
       "      <td>23.57</td>\n",
       "      <td>70.00</td>\n",
       "      <td>1396</td>\n",
       "      <td>5</td>\n",
       "      <td>0</td>\n",
       "      <td>0</td>\n",
       "      <td>0</td>\n",
       "      <td>0</td>\n",
       "      <td>...</td>\n",
       "      <td>0</td>\n",
       "      <td>0</td>\n",
       "      <td>0</td>\n",
       "      <td>0</td>\n",
       "      <td>0</td>\n",
       "      <td>0</td>\n",
       "      <td>0</td>\n",
       "      <td>0</td>\n",
       "      <td>0</td>\n",
       "      <td>0</td>\n",
       "    </tr>\n",
       "  </tbody>\n",
       "</table>\n",
       "<p>7906 rows × 80 columns</p>\n",
       "</div>"
      ],
      "text/plain": [
       "      Year  km_Driven  Mileage  Max_Power  Engine  Seats  \\\n",
       "0     2014     145500    23.40      74.00    1248      5   \n",
       "1     2014     120000    21.14     103.52    1498      5   \n",
       "2     2006     140000    17.70      78.00    1497      5   \n",
       "3     2010     127000    23.00      90.00    1396      5   \n",
       "4     2007     120000    16.10      88.20    1298      5   \n",
       "...    ...        ...      ...        ...     ...    ...   \n",
       "7901  2013     110000    18.50      82.85    1197      5   \n",
       "7902  2007     119000    16.80     110.00    1493      5   \n",
       "7903  2009     120000    19.30      73.90    1248      5   \n",
       "7904  2013      25000    23.57      70.00    1396      5   \n",
       "7905  2013      25000    23.57      70.00    1396      5   \n",
       "\n",
       "      Brand_Name_Ambassador  Brand_Name_Ashok  Brand_Name_Audi  \\\n",
       "0                         0                 0                0   \n",
       "1                         0                 0                0   \n",
       "2                         0                 0                0   \n",
       "3                         0                 0                0   \n",
       "4                         0                 0                0   \n",
       "...                     ...               ...              ...   \n",
       "7901                      0                 0                0   \n",
       "7902                      0                 0                0   \n",
       "7903                      0                 0                0   \n",
       "7904                      0                 0                0   \n",
       "7905                      0                 0                0   \n",
       "\n",
       "      Brand_Name_BMW  ...  City_Name_Nellore  City_Name_Noida  \\\n",
       "0                  0  ...                  0                0   \n",
       "1                  0  ...                  0                0   \n",
       "2                  0  ...                  0                1   \n",
       "3                  0  ...                  0                0   \n",
       "4                  0  ...                  0                0   \n",
       "...              ...  ...                ...              ...   \n",
       "7901               0  ...                  0                0   \n",
       "7902               0  ...                  0                0   \n",
       "7903               0  ...                  0                0   \n",
       "7904               0  ...                  0                0   \n",
       "7905               0  ...                  0                0   \n",
       "\n",
       "      City_Name_Patna  City_Name_Pune  City_Name_Ranchi  City_Name_Surat  \\\n",
       "0                   0               0                 0                0   \n",
       "1                   0               0                 1                0   \n",
       "2                   0               0                 0                0   \n",
       "3                   0               0                 0                0   \n",
       "4                   0               0                 0                0   \n",
       "...               ...             ...               ...              ...   \n",
       "7901                0               0                 0                0   \n",
       "7902                0               0                 0                0   \n",
       "7903                0               0                 0                0   \n",
       "7904                0               0                 0                0   \n",
       "7905                0               0                 0                0   \n",
       "\n",
       "      City_Name_Thrissur  City_Name_Vadodara  City_Name_Vellore  \\\n",
       "0                      0                   0                  0   \n",
       "1                      0                   0                  0   \n",
       "2                      0                   0                  0   \n",
       "3                      0                   0                  0   \n",
       "4                      0                   0                  0   \n",
       "...                  ...                 ...                ...   \n",
       "7901                   0                   0                  0   \n",
       "7902                   0                   0                  0   \n",
       "7903                   0                   0                  0   \n",
       "7904                   0                   0                  1   \n",
       "7905                   0                   0                  0   \n",
       "\n",
       "      City_Name_kanpur  \n",
       "0                    0  \n",
       "1                    0  \n",
       "2                    0  \n",
       "3                    0  \n",
       "4                    0  \n",
       "...                ...  \n",
       "7901                 0  \n",
       "7902                 0  \n",
       "7903                 0  \n",
       "7904                 0  \n",
       "7905                 0  \n",
       "\n",
       "[7906 rows x 80 columns]"
      ]
     },
     "execution_count": 6,
     "metadata": {},
     "output_type": "execute_result"
    }
   ],
   "source": [
    "en_X"
   ]
  },
  {
   "cell_type": "code",
   "execution_count": 7,
   "id": "82a818b1",
   "metadata": {},
   "outputs": [
    {
     "data": {
      "text/plain": [
       "array([[ 4.15787573e-03,  1.34377674e+00,  9.86157413e-01, ...,\n",
       "        -1.88759307e-01, -1.96180526e-01, -1.79581850e-01],\n",
       "       [ 4.15787573e-03,  8.94743782e-01,  4.26198156e-01, ...,\n",
       "        -1.88759307e-01, -1.96180526e-01, -1.79581850e-01],\n",
       "       [-2.06652972e+00,  1.24692649e+00, -4.26129209e-01, ...,\n",
       "        -1.88759307e-01, -1.96180526e-01, -1.79581850e-01],\n",
       "       ...,\n",
       "       [-1.29002187e+00,  8.94743782e-01, -2.96978765e-02, ...,\n",
       "        -1.88759307e-01, -1.96180526e-01, -1.79581850e-01],\n",
       "       [-2.54678073e-01, -7.78124103e-01,  1.02827824e+00, ...,\n",
       "        -1.88759307e-01,  5.09734589e+00, -1.79581850e-01],\n",
       "       [-2.54678073e-01, -7.78124103e-01,  1.02827824e+00, ...,\n",
       "        -1.88759307e-01, -1.96180526e-01, -1.79581850e-01]])"
      ]
     },
     "execution_count": 7,
     "metadata": {},
     "output_type": "execute_result"
    }
   ],
   "source": [
    "from sklearn.preprocessing import StandardScaler\n",
    "scaler = StandardScaler()\n",
    "x_std = scaler.fit_transform(en_X)\n",
    "x_std"
   ]
  },
  {
   "cell_type": "markdown",
   "id": "d2c9e30f",
   "metadata": {},
   "source": []
  },
  {
   "cell_type": "code",
   "execution_count": 8,
   "id": "20e00b0a",
   "metadata": {},
   "outputs": [],
   "source": [
    "from sklearn.model_selection import train_test_split\n",
    "\n",
    "# split the data in train and test sets\n",
    "X_train, X_test, y_train, y_test = train_test_split(x_std,y,test_size = 0.25)"
   ]
  },
  {
   "cell_type": "markdown",
   "id": "f84669f0",
   "metadata": {},
   "source": [
    "#Linear Regression "
   ]
  },
  {
   "cell_type": "code",
   "execution_count": 9,
   "id": "d3d68949",
   "metadata": {},
   "outputs": [
    {
     "name": "stdout",
     "output_type": "stream",
     "text": [
      "[ 651453.57682577  770109.57682577  684797.57682577 ... 1036157.57682577\n",
      "  312829.57682577  779161.57682577]\n"
     ]
    }
   ],
   "source": [
    "from sklearn.metrics import mean_absolute_error\n",
    "from sklearn.metrics import mean_squared_error\n",
    "from sklearn.metrics import r2_score\n",
    "from sklearn import linear_model\n",
    "\n",
    "lr = linear_model.LinearRegression()\n",
    "lr.fit(X_train,y_train)\n",
    "y_pred = lr.predict(X_train)\n",
    "print(y_pred)"
   ]
  },
  {
   "cell_type": "code",
   "execution_count": null,
   "id": "dfcde3bd",
   "metadata": {},
   "outputs": [],
   "source": []
  },
  {
   "cell_type": "code",
   "execution_count": 10,
   "id": "3190db42",
   "metadata": {},
   "outputs": [
    {
     "name": "stdout",
     "output_type": "stream",
     "text": [
      "R squared: 0.8527927863398655\n",
      "Adjusted R squared:  0.8507790077672235\n"
     ]
    }
   ],
   "source": [
    "#Print the R2 score and Adjusted R2 Score\n",
    "print(\"R squared: {}\".format(r2_score(y_train,y_pred)))\n",
    "#display adjusted R-squared\n",
    "print(\"Adjusted R squared: \", 1 - (1-lr.score(X_train, y_train))*(len(y_train)-1)/(len(y_train)-X_train.shape[1]-1))"
   ]
  },
  {
   "cell_type": "markdown",
   "id": "1169c7fa",
   "metadata": {},
   "source": [
    "#Decison Tree regressor"
   ]
  },
  {
   "cell_type": "code",
   "execution_count": 11,
   "id": "6de9a751",
   "metadata": {},
   "outputs": [
    {
     "data": {
      "text/plain": [
       "DecisionTreeRegressor(random_state=0)"
      ]
     },
     "execution_count": 11,
     "metadata": {},
     "output_type": "execute_result"
    }
   ],
   "source": [
    "from sklearn.tree import DecisionTreeRegressor \n",
    "  \n",
    "# create a regressor object\n",
    "regressor = DecisionTreeRegressor(random_state = 0) \n",
    "  \n",
    "# fit the regressor with X and Y data\n",
    "regressor.fit(X_train, y_train)"
   ]
  },
  {
   "cell_type": "code",
   "execution_count": 12,
   "id": "9a4dae72",
   "metadata": {},
   "outputs": [],
   "source": [
    "y_pred1 = regressor.predict(X_test)\n"
   ]
  },
  {
   "cell_type": "code",
   "execution_count": 13,
   "id": "0a08c3d4",
   "metadata": {},
   "outputs": [
    {
     "name": "stdout",
     "output_type": "stream",
     "text": [
      "R squared: 0.9614023050818803\n"
     ]
    }
   ],
   "source": [
    "\n",
    "#Print the R2 score and Adjusted R2 Score\n",
    "print(\"R squared: {}\".format(r2_score(y_test,y_pred1)))"
   ]
  },
  {
   "cell_type": "markdown",
   "id": "dc464ca9",
   "metadata": {},
   "source": [
    "#Gradient Boosted tree regressor"
   ]
  },
  {
   "cell_type": "code",
   "execution_count": 14,
   "id": "92179be8",
   "metadata": {},
   "outputs": [],
   "source": [
    "params = {\n",
    "    \"n_estimators\": 500,\n",
    "    \"max_depth\": 4,\n",
    "    \"min_samples_split\": 5,\n",
    "    \"learning_rate\": 0.01,\n",
    "    \"loss\": \"squared_error\",\n",
    "}"
   ]
  },
  {
   "cell_type": "code",
   "execution_count": 15,
   "id": "efb427cf",
   "metadata": {},
   "outputs": [
    {
     "data": {
      "text/plain": [
       "GradientBoostingRegressor(learning_rate=0.01, max_depth=4, min_samples_split=5,\n",
       "                          n_estimators=500)"
      ]
     },
     "execution_count": 15,
     "metadata": {},
     "output_type": "execute_result"
    }
   ],
   "source": [
    "from sklearn import ensemble\n",
    "from sklearn.ensemble import GradientBoostingRegressor\n",
    "reg = GradientBoostingRegressor(**params)\n",
    "reg.fit(X_train, y_train)\n",
    "\n"
   ]
  },
  {
   "cell_type": "code",
   "execution_count": 16,
   "id": "5eb59160",
   "metadata": {},
   "outputs": [],
   "source": [
    "y_pred2=reg.predict(X_test)\n"
   ]
  },
  {
   "cell_type": "code",
   "execution_count": 17,
   "id": "cd21fed5",
   "metadata": {},
   "outputs": [
    {
     "name": "stdout",
     "output_type": "stream",
     "text": [
      "R squared: 0.973621124266857\n"
     ]
    }
   ],
   "source": [
    "print(\"R squared: {}\".format(r2_score(y_test,y_pred2)))"
   ]
  },
  {
   "cell_type": "code",
   "execution_count": null,
   "id": "203d4a30",
   "metadata": {},
   "outputs": [],
   "source": []
  },
  {
   "cell_type": "code",
   "execution_count": null,
   "id": "f56ea3ba",
   "metadata": {},
   "outputs": [],
   "source": []
  },
  {
   "cell_type": "code",
   "execution_count": 18,
   "id": "0a564528",
   "metadata": {},
   "outputs": [],
   "source": [
    "#from sklearn.model_selection import RepeatedKFold\n",
    "#from sklearn.model_selection import GridSearchCV\n",
    "\n",
    "#model = GradientBoostingRegressor()\n",
    "#grid = dict()\n",
    "#grid['n_estimators'] = [500,600]\n",
    "#grid['learning_rate'] = [0.2, 0.1]\n",
    "#grid['subsample'] = [0.5, 0.7]\n",
    "#grid['max_depth'] = [3, 4,5]\n",
    "#grid['min_samples_split']=[3,4,5]\n",
    "# define the evaluation procedure\n",
    "#cv = RepeatedKFold(n_splits=5, n_repeats=3, random_state=1)\n",
    "# define the grid search procedure\n",
    "#grid_search = GridSearchCV(estimator=model, param_grid=grid, n_jobs=-1, cv=cv)\n",
    "# execute the grid search\n",
    "#grid_result = grid_search.fit(X_train, y_train)"
   ]
  },
  {
   "cell_type": "code",
   "execution_count": 19,
   "id": "59b803ce",
   "metadata": {},
   "outputs": [],
   "source": [
    "# summarize the best score and configuration\n",
    "#print(\"Best: %f using %s\" % (grid_result.best_score_, grid_result.best_params_)) # summarize all scores that were evaluated\n",
    "#means = grid_result.cv_results_['mean_test_score']\n",
    "#stds = grid_result.cv_results_['std_test_score']\n",
    "#params = grid_result.cv_results_['params']\n",
    "#for mean, stdev, param in zip(means, stds, params):\n",
    "#    print(\"%f (%f) with: %r\" % (mean, stdev, param))"
   ]
  },
  {
   "cell_type": "code",
   "execution_count": 20,
   "id": "2b44d621",
   "metadata": {},
   "outputs": [
    {
     "data": {
      "text/plain": [
       "GradientBoostingRegressor(max_depth=4, n_estimators=600, random_state=0,\n",
       "                          subsample=0.7)"
      ]
     },
     "execution_count": 20,
     "metadata": {},
     "output_type": "execute_result"
    }
   ],
   "source": [
    "model = GradientBoostingRegressor(random_state=0, learning_rate=0.1,max_depth=4, n_estimators=600, subsample=0.7)\n",
    "model.fit(X_train, y_train)"
   ]
  },
  {
   "cell_type": "code",
   "execution_count": 21,
   "id": "dcd8bf86",
   "metadata": {},
   "outputs": [],
   "source": [
    "y_pred4=model.predict(X_test)"
   ]
  },
  {
   "cell_type": "code",
   "execution_count": 22,
   "id": "8649724f",
   "metadata": {},
   "outputs": [
    {
     "name": "stdout",
     "output_type": "stream",
     "text": [
      "R squared: 0.9804651997854908\n"
     ]
    }
   ],
   "source": [
    "print(\"R squared: {}\".format(r2_score(y_test,y_pred4)))"
   ]
  },
  {
   "cell_type": "code",
   "execution_count": 34,
   "id": "6220ff85",
   "metadata": {},
   "outputs": [
    {
     "ename": "NameError",
     "evalue": "name 'x' is not defined",
     "output_type": "error",
     "traceback": [
      "\u001b[1;31m---------------------------------------------------------------------------\u001b[0m",
      "\u001b[1;31mNameError\u001b[0m                                 Traceback (most recent call last)",
      "Input \u001b[1;32mIn [34]\u001b[0m, in \u001b[0;36m<cell line: 5>\u001b[1;34m()\u001b[0m\n\u001b[0;32m      1\u001b[0m \u001b[38;5;28;01mimport\u001b[39;00m \u001b[38;5;21;01mmatplotlib\u001b[39;00m\u001b[38;5;21;01m.\u001b[39;00m\u001b[38;5;21;01mpyplot\u001b[39;00m \u001b[38;5;28;01mas\u001b[39;00m \u001b[38;5;21;01mplt\u001b[39;00m\n\u001b[0;32m      2\u001b[0m plt\u001b[38;5;241m.\u001b[39mfigure(figsize\u001b[38;5;241m=\u001b[39m(\u001b[38;5;241m15\u001b[39m, \u001b[38;5;241m10\u001b[39m))\n\u001b[1;32m----> 5\u001b[0m plt\u001b[38;5;241m.\u001b[39mplot(\u001b[43mx\u001b[49m,y_test)\n\u001b[0;32m      6\u001b[0m plt\u001b[38;5;241m.\u001b[39mplot(x,y_pred4)\n",
      "\u001b[1;31mNameError\u001b[0m: name 'x' is not defined"
     ]
    },
    {
     "data": {
      "text/plain": [
       "<Figure size 1080x720 with 0 Axes>"
      ]
     },
     "metadata": {},
     "output_type": "display_data"
    }
   ],
   "source": []
  },
  {
   "cell_type": "code",
   "execution_count": null,
   "id": "1c4f98a4",
   "metadata": {},
   "outputs": [],
   "source": []
  },
  {
   "cell_type": "code",
   "execution_count": null,
   "id": "63fa9e93",
   "metadata": {},
   "outputs": [],
   "source": []
  },
  {
   "cell_type": "code",
   "execution_count": null,
   "id": "dcc9f2f7",
   "metadata": {},
   "outputs": [],
   "source": []
  },
  {
   "cell_type": "markdown",
   "id": "342f911b",
   "metadata": {},
   "source": [
    "#MLP regressor"
   ]
  },
  {
   "cell_type": "code",
   "execution_count": 23,
   "id": "7f92f81e",
   "metadata": {},
   "outputs": [],
   "source": [
    "from sklearn.neural_network import MLPRegressor\n",
    "from sklearn import metrics"
   ]
  },
  {
   "cell_type": "code",
   "execution_count": 24,
   "id": "f249dfb9",
   "metadata": {},
   "outputs": [],
   "source": [
    "mlp_reg = MLPRegressor(hidden_layer_sizes=(150,100,50),\n",
    "                       max_iter = 1000,activation = 'relu',\n",
    "                       solver = 'adam')"
   ]
  },
  {
   "cell_type": "code",
   "execution_count": 25,
   "id": "972d2ca9",
   "metadata": {},
   "outputs": [
    {
     "name": "stderr",
     "output_type": "stream",
     "text": [
      "C:\\Users\\sgoria\\Anaconda3\\lib\\site-packages\\sklearn\\neural_network\\_multilayer_perceptron.py:692: ConvergenceWarning: Stochastic Optimizer: Maximum iterations (1000) reached and the optimization hasn't converged yet.\n",
      "  warnings.warn(\n"
     ]
    },
    {
     "data": {
      "text/plain": [
       "MLPRegressor(hidden_layer_sizes=(150, 100, 50), max_iter=1000)"
      ]
     },
     "execution_count": 25,
     "metadata": {},
     "output_type": "execute_result"
    }
   ],
   "source": [
    "mlp_reg.fit(X_train, y_train)"
   ]
  },
  {
   "cell_type": "code",
   "execution_count": 26,
   "id": "9be91166",
   "metadata": {},
   "outputs": [],
   "source": [
    "y_pred3 = mlp_reg.predict(X_test)"
   ]
  },
  {
   "cell_type": "code",
   "execution_count": 27,
   "id": "77342ba1",
   "metadata": {},
   "outputs": [
    {
     "name": "stdout",
     "output_type": "stream",
     "text": [
      "R squared: 0.95669343574168\n"
     ]
    }
   ],
   "source": [
    "print(\"R squared: {}\".format(r2_score(y_test,y_pred3)))"
   ]
  },
  {
   "cell_type": "code",
   "execution_count": null,
   "id": "bf35ac66",
   "metadata": {},
   "outputs": [],
   "source": []
  }
 ],
 "metadata": {
  "kernelspec": {
   "display_name": "Python 3 (ipykernel)",
   "language": "python",
   "name": "python3"
  },
  "language_info": {
   "codemirror_mode": {
    "name": "ipython",
    "version": 3
   },
   "file_extension": ".py",
   "mimetype": "text/x-python",
   "name": "python",
   "nbconvert_exporter": "python",
   "pygments_lexer": "ipython3",
   "version": "3.9.12"
  }
 },
 "nbformat": 4,
 "nbformat_minor": 5
}
